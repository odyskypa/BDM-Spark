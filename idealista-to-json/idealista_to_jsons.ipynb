{
 "cells": [
  {
   "cell_type": "code",
   "execution_count": 7,
   "metadata": {},
   "outputs": [],
   "source": [
    "import json\n",
    "import os\n",
    "import pandas as pd\n",
    "\n",
    "# Set the path to the 'idealista' folder\n",
    "folder_path = 'P2_data/idealista/'\n",
    "\n",
    "# Set the path to the output folder\n",
    "output_folder = 'P2_data/idealista_json'\n",
    "\n",
    "# Get a list of subfolders inside the 'idealista' folder\n",
    "subfolders = [f for f in os.listdir(folder_path) if os.path.isdir(os.path.join(folder_path, f))]\n",
    "documents = []\n",
    "\n",
    "# Iterate over the subfolders\n",
    "for subfolder in subfolders:\n",
    "    subfolder_path = os.path.join(folder_path, subfolder)\n",
    "    \n",
    "    # Find the Parquet file within the subfolder\n",
    "    parquet_files = [f for f in os.listdir(subfolder_path) if f.endswith('.parquet')]\n",
    "    \n",
    "    if len(parquet_files) == 1:\n",
    "        parquet_file = os.path.join(subfolder_path, parquet_files[0])\n",
    "        \n",
    "        # Read the Parquet file into a DataFrame\n",
    "        df = pd.read_parquet(parquet_file)\n",
    "        \n",
    "        # Convert DataFrame to list of JSON records\n",
    "        json_records = df.to_dict(orient='records')\n",
    "        \n",
    "        # Extract the date from the subfolder name\n",
    "        date = subfolder[:-10]\n",
    "        \n",
    "        # Create a dictionary for the final document\n",
    "        document = {\n",
    "            \"_id\": date,\n",
    "            \"value\": json_records\n",
    "        }\n",
    "        \n",
    "        documents.append(document)\n",
    "        \n",
    "        # Write the final document to the output JSON file\n",
    "    else:\n",
    "        print(f\"Skipping folder {subfolder}: No or multiple Parquet files found.\")\n",
    "    \n",
    "    # Define the output JSON file path\n",
    "        json_file = os.path.join(output_folder, 'idealista.json')\n",
    "    \n",
    "    with open(json_file, 'w', encoding='utf-8-sig') as file:\n",
    "        json.dump(documents, file, ensure_ascii=False)"
   ]
  }
 ],
 "metadata": {
  "kernelspec": {
   "display_name": "Python 3",
   "language": "python",
   "name": "python3"
  },
  "language_info": {
   "codemirror_mode": {
    "name": "ipython",
    "version": 3
   },
   "file_extension": ".py",
   "mimetype": "text/x-python",
   "name": "python",
   "nbconvert_exporter": "python",
   "pygments_lexer": "ipython3",
   "version": "3.10.7"
  },
  "orig_nbformat": 4
 },
 "nbformat": 4,
 "nbformat_minor": 2
}
